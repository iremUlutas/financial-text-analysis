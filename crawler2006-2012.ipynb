{
 "cells": [
  {
   "cell_type": "code",
   "execution_count": null,
   "metadata": {},
   "outputs": [],
   "source": [
    "from selenium import webdriver \n",
    "from selenium.webdriver.common.by import By \n",
    "from selenium.webdriver.support.ui import WebDriverWait \n",
    "from selenium.webdriver.support import expected_conditions as EC \n",
    "from selenium.common.exceptions import TimeoutException\n",
    "import time\n",
    "from datetime import datetime, timedelta\n",
    "import re\n"
   ]
  },
  {
   "cell_type": "code",
   "execution_count": null,
   "metadata": {},
   "outputs": [],
   "source": [
    "report_by_years = dict()\n",
    "input_by_years = dict()\n",
    "reports = dict()\n",
    "report_dates = list()\n",
    "dates_to_check = list()\n",
    "\n",
    "pattern = re.compile(r'^\\s*(\\d{2}\\s*.\\s*\\d{2}\\s*.\\s*\\d{4})\\s*$')\n",
    "new_entry=True\n",
    "\n",
    "years = [\"06\", \"07\", \"08\", \"09\", \"10\", \"11\", \"12\"]\n",
    "\n",
    "path = '/usr/local/bin/chromedriver'\n",
    "browser = webdriver.Chrome()\n"
   ]
  },
  {
   "cell_type": "code",
   "execution_count": null,
   "metadata": {},
   "outputs": [],
   "source": [
    "def remove_duplicate_dates(data):\n",
    "    new_data = \"\"\n",
    "    lines = data.split('\\n')\n",
    "    dates_to_check.clear()\n",
    "    prev_date = datetime.now().strftime(\"%d.%m.%Y\")\n",
    "    for line in lines:\n",
    "        if line == \"\":\n",
    "            continue\n",
    "        if re.search(pattern, line):\n",
    "            line = line.replace(\" \", \"\")\n",
    "            if prev_date == line:\n",
    "                data.replace(line, \" \")\n",
    "            else:\n",
    "                new_data = new_data + line + '\\n'\n",
    "                date_time_obj = datetime.strptime(line, '%d.%m.%Y')\n",
    "                if date_time_obj.weekday() == 4:\n",
    "                    date_time_obj += timedelta(days=2)\n",
    "                date_time_obj += timedelta(days=1)\n",
    "                dates_to_check.append(date_time_obj.strftime(\"%d.%m.%Y\"))\n",
    "            prev_date = line\n",
    "        else:\n",
    "            new_data += line + \"\\n\"\n",
    "    print(new_data)\n",
    "    return new_data\n"
   ]
  },
  {
   "cell_type": "code",
   "execution_count": null,
   "metadata": {},
   "outputs": [],
   "source": [
    "def get_data(link, year):\n",
    "    # access the link\n",
    "    browser.get(link)\n",
    "\n",
    "    data = browser.find_element_by_xpath('//*[@id=\"mainBody\"]/section/div/div[2]/div/div[3]/article').text\n",
    "    report_file = open(\"reports_\"+year+\".txt\", \"w+\")\n",
    "    data = remove_duplicate_dates(data)\n",
    "    dates_to_check_file = open(\"dates_to_check_\"+year+\".txt\", \"w+\")\n",
    "    #print(data)\n",
    "    #print(dates_to_check)\n",
    "    report_file.write(data)\n",
    "    dates_to_check_file.write(\"\\n\".join(dates_to_check))\n",
    "    dates_to_check_file.close()\n",
    "    report_file.close()\n"
   ]
  },
  {
   "cell_type": "code",
   "execution_count": null,
   "metadata": {},
   "outputs": [],
   "source": [
    "for year in years:\n",
    "    year = \"20\"+year\n",
    "    link = \"http://investor.turkishairlines.com/en/announcements/disclosures/detail/\"+year+\"-public-disclosures\"\n",
    "    get_data(link, year)\n"
   ]
  },
  {
   "cell_type": "code",
   "execution_count": null,
   "metadata": {},
   "outputs": [],
   "source": []
  }
 ],
 "metadata": {
  "kernelspec": {
   "display_name": "Python 3",
   "language": "python",
   "name": "python3"
  },
  "language_info": {
   "codemirror_mode": {
    "name": "ipython",
    "version": 3
   },
   "file_extension": ".py",
   "mimetype": "text/x-python",
   "name": "python",
   "nbconvert_exporter": "python",
   "pygments_lexer": "ipython3",
   "version": "3.7.1"
  }
 },
 "nbformat": 4,
 "nbformat_minor": 2
}
