{
 "cells": [
  {
   "cell_type": "code",
   "execution_count": null,
   "metadata": {},
   "outputs": [],
   "source": [
    "import re\n",
    "from datetime import datetime, timedelta\n",
    "import csv"
   ]
  },
  {
   "cell_type": "code",
   "execution_count": null,
   "metadata": {},
   "outputs": [],
   "source": [
    "# data containers\n",
    "\n",
    "report_by_years = dict()\n",
    "input_by_years = dict()\n",
    "reports = dict()\n",
    "\n",
    "pattern = re.compile(r'^(\\d\\d\\.\\d\\d\\.\\d\\d\\d\\d)$')\n",
    "key=\"\"\n",
    "new_entry=True\n",
    "\n",
    "years = ['2018', '2017', '2016', '2015', '2014']"
   ]
  },
  {
   "cell_type": "code",
   "execution_count": null,
   "metadata": {},
   "outputs": [],
   "source": [
    "for year in years:\n",
    "    input_by_years[year] = [line.strip('\\n') for line in open(\"reports_\"+year+\".txt\")]\n"
   ]
  },
  {
   "cell_type": "code",
   "execution_count": null,
   "metadata": {},
   "outputs": [],
   "source": [
    "for year in years:\n",
    "    reports_for_year = {}\n",
    "    for line in input_by_years[year]:\n",
    "        if line == \"\":\n",
    "            continue\n",
    "        if re.search(pattern, line):\n",
    "            new_entry = True\n",
    "            key = line\n",
    "            date_time_obj = datetime.strptime(line, '%d.%m.%Y')\n",
    "            if date_time_obj.weekday() == 4:\n",
    "                date_time_obj += timedelta(days=2)\n",
    "            date_time_obj += timedelta(days=1)\n",
    "            key = str(date_time_obj.strftime(\"%d.%m.%Y\"))\n",
    "        else:\n",
    "            new_entry = False\n",
    "        if new_entry:\n",
    "            reports_for_year[key] = \"\"\n",
    "        else:\n",
    "            reports_for_year[key]+=line\n",
    "    report_by_years[year] = reports_for_year\n"
   ]
  },
  {
   "cell_type": "code",
   "execution_count": null,
   "metadata": {},
   "outputs": [],
   "source": [
    "word_points_binary_count_pos = dict()\n",
    "word_points_binary_count_neg = dict()\n",
    "word_points_binary_frequency_pos = dict()\n",
    "word_points_binary_frequency_neg = dict()\n",
    "word_points_weighted_count_pos = dict()\n",
    "word_points_weighted_count_neg = dict()\n",
    "word_points_weighted_frequency_pos = dict()\n",
    "word_points_weighted_frequency_neg = dict()\n",
    "\n",
    "\n",
    "l_binary_count = dict()\n",
    "l_binary_frequency = dict()\n",
    "l_weighted_count = dict()\n",
    "l_weighted_frequency = dict()"
   ]
  },
  {
   "cell_type": "code",
   "execution_count": null,
   "metadata": {},
   "outputs": [],
   "source": [
    "# define and populate price_change_with_reports\n",
    "\n",
    "price_change_with_reports = dict()\n",
    "\n",
    "with open(\"percentage_change_reports.txt\") as file:\n",
    "    read = csv.reader(file, delimiter=\"$\")\n",
    "    for row in read:\n",
    "        date = row[0]\n",
    "        change = float(row[1])\n",
    "        price_change_with_reports[date] = change"
   ]
  },
  {
   "cell_type": "code",
   "execution_count": null,
   "metadata": {},
   "outputs": [],
   "source": [
    "def input_to_dict(dictionary, key, value):\n",
    "    if key in dictionary:\n",
    "        dictionary[key]+=value\n",
    "    else:\n",
    "        dictionary[key] = value\n",
    "\n",
    "\n",
    "# her yilin tum raporlarini dolasip kelimeleri parcalayip deger atiyoruz\n",
    "for year in years:\n",
    "    if year == '2018':\n",
    "        continue\n",
    "    yearly_report = report_by_years[year]\n",
    "    for date in yearly_report:\n",
    "        if date not in price_change_with_reports:\n",
    "            print(\"hatali date bulduk: \"+date)\n",
    "            continue\n",
    "        words = yearly_report[date].lower().split()\n",
    "        num_words = len(words)\n",
    "        for word in words:\n",
    "            if price_change_with_reports[date] > 0:\n",
    "                input_to_dict(word_points_binary_count_pos, word, 1)\n",
    "                input_to_dict(word_points_binary_frequency_pos, word, 1/num_words)\n",
    "                input_to_dict(word_points_weighted_count_pos, word, price_change_with_reports[date])\n",
    "                input_to_dict(word_points_weighted_frequency_pos, word, price_change_with_reports[date]/num_words)\n",
    "            else:\n",
    "                input_to_dict(word_points_binary_count_neg, word, 1)\n",
    "                input_to_dict(word_points_binary_frequency_neg, word, 1/num_words)\n",
    "                input_to_dict(word_points_weighted_count_neg, word, price_change_with_reports[date])\n",
    "                input_to_dict(word_points_weighted_frequency_neg, word, price_change_with_reports[date]/num_words)\n"
   ]
  },
  {
   "cell_type": "code",
   "execution_count": null,
   "metadata": {},
   "outputs": [],
   "source": [
    "def calculate_l_value(pos, neg, l):\n",
    "    for word in pos:\n",
    "        if word in neg and neg[word] != 0:\n",
    "            l[word] = pos[word]/neg[word]\n",
    "        else:\n",
    "            l[word] = pos[word]\n",
    "\n",
    "\n",
    "calculate_l_value(word_points_binary_count_pos, word_points_binary_count_neg, l_binary_count)\n",
    "calculate_l_value(word_points_binary_frequency_pos, word_points_binary_frequency_neg, l_binary_frequency)\n",
    "calculate_l_value(word_points_weighted_count_pos, word_points_weighted_count_neg, l_weighted_count)\n",
    "calculate_l_value(word_points_weighted_frequency_pos, word_points_weighted_frequency_neg, l_weighted_frequency)\n"
   ]
  },
  {
   "cell_type": "code",
   "execution_count": null,
   "metadata": {},
   "outputs": [],
   "source": [
    "from operator import itemgetter\n",
    "from collections import OrderedDict\n",
    "\n",
    "sorted_l_binary_count = OrderedDict(sorted(l_binary_count.items(), key=itemgetter(1)))\n",
    "sorted_l_binary_frequency = OrderedDict(sorted(l_binary_frequency.items(), key=itemgetter(1)))\n",
    "sorted_l_weighted_count = OrderedDict(sorted(l_weighted_count.items(), key=itemgetter(1)))\n",
    "sorted_l_weighted_frequency = OrderedDict(sorted(l_weighted_frequency.items(), key=itemgetter(1)))\n"
   ]
  },
  {
   "cell_type": "code",
   "execution_count": null,
   "metadata": {},
   "outputs": [],
   "source": [
    "success_b_c = 0\n",
    "success_w_c = 0\n",
    "success_w_f = 0\n",
    "num_reports = 0\n",
    "\n",
    "\n",
    "yearly_report = report_by_years['2018']\n",
    "for date in yearly_report:\n",
    "    if date not in price_change_with_reports:\n",
    "        continue\n",
    "    num_reports+=1\n",
    "    words = yearly_report[date].lower().split()\n",
    "    num_words = len(words)\n",
    "    estimation_binary_count = 0\n",
    "    estimation_weighted_count = 0\n",
    "    estimation_weighted_frequency = 0\n",
    "    for word in words:\n",
    "        if word not in l_binary_count:\n",
    "            continue\n",
    "        estimation_binary_count += l_binary_count[word]\n",
    "        estimation_weighted_count += l_weighted_count[word]\n",
    "        estimation_weighted_frequency += l_weighted_frequency[word]\n",
    "    if price_change_with_reports[date] > 0:\n",
    "        if estimation_binary_count > 1:\n",
    "            success_b_c += 1\n",
    "            # print(\"On date \"+date+\" binary count estimated upward movement successfully!\")\n",
    "        if estimation_weighted_count > 0:\n",
    "            success_w_c += 1\n",
    "            # print(\"On date \"+date+\" weighted count estimated upward movement successfully!\")\n",
    "        if estimation_weighted_frequency > 0:\n",
    "            success_w_f += 1\n",
    "            # print(\"On date \"+date+\" weighted frequency estimated upward movement successfully!\")\n",
    "    else:\n",
    "        if estimation_binary_count < 1:\n",
    "            success_b_c += 1\n",
    "            # print(\"On date \"+date+\" binary count estimated downward movement successfully!\")\n",
    "        if estimation_weighted_count < 0:\n",
    "            success_w_c += 1\n",
    "            # print(\"On date \"+date+\" weighted count estimated downward movement successfully!\")\n",
    "        if estimation_weighted_frequency < 0:\n",
    "            success_w_f += 1\n",
    "        \n",
    "print(\"num_reports: \"+str(num_reports))\n",
    "print(\"success_b_c: %\"+str(100*success_b_c/num_reports))\n",
    "print(\"success_w_c: %\"+str(100*success_w_c/num_reports))\n",
    "print(\"success_w_f: %\"+str(100*success_w_f/num_reports))"
   ]
  },
  {
   "cell_type": "code",
   "execution_count": null,
   "metadata": {},
   "outputs": [],
   "source": [
    "# define how many top words you want to print. default set to 5\n",
    "offset = 5\n",
    "print(\"Binary Count Top \"+str(offset))\n",
    "for i in range(offset):\n",
    "    print(sorted_l_binary_count[-offset])\n",
    "print('\\nBinary Frequency Top '+str(offset))\n",
    "for i in range(offset):\n",
    "    print(sorted_l_binary_frequency[-offset])\n",
    "print('\\nWeighted Count Top '+str(offset))\n",
    "for i in range(offset):\n",
    "    print(sorted_l_weighted_count[-offset])\n",
    "print('\\nWeighted Frequency Top '+str(offset))\n",
    "for i in range(offset):\n",
    "    print(sorted_l_weighted_frequency[-offset])\n"
   ]
  },
  {
   "cell_type": "code",
   "execution_count": null,
   "metadata": {},
   "outputs": [],
   "source": []
  }
 ],
 "metadata": {
  "kernelspec": {
   "display_name": "Python 3",
   "language": "python",
   "name": "python3"
  },
  "language_info": {
   "codemirror_mode": {
    "name": "ipython",
    "version": 3
   },
   "file_extension": ".py",
   "mimetype": "text/x-python",
   "name": "python",
   "nbconvert_exporter": "python",
   "pygments_lexer": "ipython3",
   "version": "3.7.1"
  }
 },
 "nbformat": 4,
 "nbformat_minor": 2
}
