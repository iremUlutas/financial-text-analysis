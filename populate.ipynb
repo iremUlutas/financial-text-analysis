{
 "cells": [
  {
   "cell_type": "code",
   "execution_count": 13,
   "metadata": {},
   "outputs": [],
   "source": [
    "from datetime import datetime\n",
    "import pandas as pd\n",
    "import csv\n",
    "import numpy as np\n",
    "import matplotlib.pyplot as plt\n",
    "\n",
    "def show_figure(df, col):\n",
    "    df.hist(column=col)\n",
    "    plt.show()"
   ]
  },
  {
   "cell_type": "code",
   "execution_count": 16,
   "metadata": {
    "scrolled": true
   },
   "outputs": [],
   "source": [
    "#years = ['2018', '2017', '2016', '2015', '2014'] #cmpe491 subpart\n",
    "years = ['2018', '2017', '2016', '2015', '2014', '2013', '2012', '2011'] #cmpe492 extension\n",
    "report_dates = []\n",
    "\n",
    "# populating report_dates\n",
    "for year in years:\n",
    "    with open(\"dates_to_check_\"+year+\".txt\", \"r\") as ins:\n",
    "        for line in ins:\n",
    "            report_dates.append(line.strip())\n",
    "            "
   ]
  },
  {
   "cell_type": "code",
   "execution_count": 17,
   "metadata": {},
   "outputs": [],
   "source": [
    "# output files\n",
    "cumm_change = open(\"percentage_change_cumm.txt\", \"w+\")\n",
    "report_change = open(\"percentage_change_reports.txt\", \"w+\")\n",
    "\n",
    "# lists\n",
    "per_change_list = []\n",
    "per_change_reports_list = []\n",
    "\n",
    "# Read price change data into lists\n",
    "# Generate output files containing date$per_change\n",
    "#stock_file = \"THYAO2014-2018.csv\" #cmpe491\n",
    "stock_file = \"THYAO2011-2018.csv\" #cmpe492\n",
    "with open(stock_file, \"rt\") as infile:\n",
    "    infile.readline()  \n",
    "    read = csv.reader(infile, delimiter=\",\")\n",
    "    for row in read :\n",
    "        date = row[0]\n",
    "        change = row[-1][0:-1]\n",
    "        change = change.replace(',', '.')        \n",
    "        if date in report_dates:\n",
    "            report_change.write(date+\"$\"+change+'\\n')\n",
    "            per_change_reports_list.append(float(change))\n",
    "        cumm_change.write(date+\"$\"+change+'\\n')\n",
    "        per_change_list.append(float(change))\n"
   ]
  },
  {
   "cell_type": "code",
   "execution_count": 18,
   "metadata": {},
   "outputs": [
    {
     "data": {
      "image/png": "[encoded data removed]",
      "text/plain": [
       "<Figure size 432x288 with 1 Axes>"
      ]
     },
     "metadata": {
      "needs_background": "light"
     },
     "output_type": "display_data"
    }
   ],
   "source": [
    "# Histogram of all datas log return\n",
    "df_all = pd.read_csv(\"percentage_change_cumm.txt\", sep=\"$\", names=['date', 'change'])\n",
    "df_all['change'] = df_all['change'].astype('float64')\n",
    "df_all['change'] = df_all['change']/100 +1\n",
    "df_all['log-return'] = np.log(df_all['change'])\n",
    "show_figure(df_all, 'log-return')"
   ]
  },
  {
   "cell_type": "code",
   "execution_count": 19,
   "metadata": {},
   "outputs": [
    {
     "data": {
      "image/png": "[encoded data removed]",
      "text/plain": [
       "<Figure size 432x288 with 1 Axes>"
      ]
     },
     "metadata": {
      "needs_background": "light"
     },
     "output_type": "display_data"
    }
   ],
   "source": [
    "# Histogram of report days' log return\n",
    "df_rep = pd.read_csv(\"percentage_change_reports.txt\", sep=\"$\", names=['date', 'change'])\n",
    "df_rep['change'] = df_rep['change'].astype('float64')\n",
    "df_rep['change'] = df_rep['change']/100 +1\n",
    "df_rep['log-return'] = np.log(df_rep['change'])\n",
    "show_figure(df_rep, 'log-return')"
   ]
  },
  {
   "cell_type": "code",
   "execution_count": null,
   "metadata": {},
   "outputs": [],
   "source": []
  }
 ],
 "metadata": {
  "kernelspec": {
   "display_name": "Python 3",
   "language": "python",
   "name": "python3"
  },
  "language_info": {
   "codemirror_mode": {
    "name": "ipython",
    "version": 3
   },
   "file_extension": ".py",
   "mimetype": "text/x-python",
   "name": "python",
   "nbconvert_exporter": "python",
   "pygments_lexer": "ipython3",
   "version": "3.7.1"
  }
 },
 "nbformat": 4,
 "nbformat_minor": 2
}
