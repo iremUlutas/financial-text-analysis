{
 "cells": [
  {
   "cell_type": "code",
   "execution_count": 6,
   "metadata": {},
   "outputs": [],
   "source": [
    "from selenium import webdriver \n",
    "from selenium.webdriver.common.by import By \n",
    "from selenium.webdriver.support.ui import WebDriverWait \n",
    "from selenium.webdriver.support import expected_conditions as EC \n",
    "from selenium.common.exceptions import TimeoutException\n",
    "import time\n",
    "from datetime import datetime, timedelta"
   ]
  },
  {
   "cell_type": "code",
   "execution_count": 7,
   "metadata": {},
   "outputs": [
    {
     "name": "stdout",
     "output_type": "stream",
     "text": [
      "Error occurred.\n",
      "Error occurred.\n",
      "Error occurred.\n",
      "Error occurred.\n",
      "Error occurred.\n",
      "Error occurred.\n"
     ]
    }
   ],
   "source": [
    "def get_data(browser, items_size, report_dates, reports, dates_to_check, change_dates):\n",
    "    prev_date = datetime.now().strftime(\"%d.%m.%Y\")\n",
    "    for i in range(items_size-1):\n",
    "        browser.find_element_by_xpath('//*[@id=\"seeAll\"]/div['+str(i+1)+']/a').click()\n",
    "        #browser.find_elements_by_class_name('title')[i].click()\n",
    "        time.sleep(1)\n",
    "\n",
    "        title = browser.find_element_by_css_selector('h3').text\n",
    "\n",
    "        date = title[0:10]\n",
    "        article = browser.find_element_by_css_selector('article').text\n",
    "        article.replace('\\n', ' ')\n",
    "\n",
    "        if date != prev_date:\n",
    "            report_dates.write('\\n'+date)\n",
    "            reports.write('\\n'+date)\n",
    "            reports.write('\\n'+article)\n",
    "            date_time_obj = datetime.strptime(date, '%d.%m.%Y')\n",
    "            if date_time_obj.weekday() == 4:\n",
    "                date_time_obj += timedelta(days=2)\n",
    "            date_time_obj += timedelta(days=1)\n",
    "            dates_to_check.write(date_time_obj.strftime(\"%d.%m.%Y\")+'\\n')\n",
    "            change_dates.append(date)\n",
    "        else:\n",
    "            reports.write(article)\n",
    "        prev_date = date\n",
    "        browser.back()\n",
    "        browser.find_element_by_xpath('//*[@id=\"displayAll\"]').click()\n",
    "    \n",
    "    browser.find_element_by_xpath('//*[@id=\"displayAll\"]').click()\n",
    "\n",
    "def crawl(browser, year, link, change_dates):\n",
    "    # access the link\n",
    "    browser.get(link)\n",
    "\n",
    "    # click on 'See All' to get all entries\n",
    "    browser.find_element_by_xpath('//*[@id=\"displayAll\"]').click()\n",
    "    \n",
    "    # get size of the entries\n",
    "    items_size = len(browser.find_elements_by_class_name('title'))\n",
    "    \n",
    "    # create the output files\n",
    "    report_dates = open(\"report_dates_\"+year+\".txt\",\"w+\")\n",
    "    reports = open(\"reports_\"+year+\".txt\",\"w+\")\n",
    "    dates_to_check = open('dates_to_check_'+year+'.txt', \"w+\")\n",
    "    \n",
    "    try:\n",
    "        # get data from the web page\n",
    "        get_data(browser,items_size,report_dates,reports,dates_to_check, change_dates)\n",
    "    except:\n",
    "        print(\"Scraping year \"+year+\" finished.\")    \n",
    "\n",
    "    # close the files because we're done with them\n",
    "    report_dates.close()\n",
    "    reports.close()\n",
    "    dates_to_check.close()\n",
    "\n",
    "path = '/usr/local/bin/chromedriver'\n",
    "\n",
    "browser = webdriver.Chrome()\n",
    "\n",
    "years = [8,7,6,5,4,3]\n",
    "\n",
    "change_dates = []\n",
    "\n",
    "for year in years:\n",
    "    link = \"http://investor.turkishairlines.com/en/announcements/disclosures/1/201\" + str(year) + \"/all-month#\"\n",
    "    year_i = \"201\"+str(year)\n",
    "    crawl(browser, year_i, link, change_dates)"
   ]
  },
  {
   "cell_type": "code",
   "execution_count": null,
   "metadata": {},
   "outputs": [],
   "source": []
  }
 ],
 "metadata": {
  "kernelspec": {
   "display_name": "Python 3",
   "language": "python",
   "name": "python3"
  },
  "language_info": {
   "codemirror_mode": {
    "name": "ipython",
    "version": 3
   },
   "file_extension": ".py",
   "mimetype": "text/x-python",
   "name": "python",
   "nbconvert_exporter": "python",
   "pygments_lexer": "ipython3",
   "version": "3.7.1"
  }
 },
 "nbformat": 4,
 "nbformat_minor": 2
}
